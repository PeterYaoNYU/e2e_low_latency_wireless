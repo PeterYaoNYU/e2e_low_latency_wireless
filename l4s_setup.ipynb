{
 "cells": [
  {
   "cell_type": "code",
   "execution_count": null,
   "metadata": {
    "vscode": {
     "languageId": "plaintext"
    }
   },
   "outputs": [],
   "source": [
    "# fabric ssh setup\n",
    "from fabric import Connection\n",
    "\n",
    "\n",
    "classic_sender = Connection(\n",
    "    host='pc538.emulab.net',\n",
    "    user = 'PeterYao',\n",
    "    port=22,\n",
    ")\n",
    "\n",
    "\n",
    "\n",
    "\n",
    "prague_sender = Connection(\n",
    "    host='pc549.emulab.net',\n",
    "    user = 'PeterYao',\n",
    "    port=22,\n",
    ")\n",
    "\n",
    "\n",
    "dualq = Connection(\n",
    "    host='pc557.emulab.net',\n",
    "    user='PeterYao',\n",
    "    port=22,\n",
    ")\n",
    "\n",
    "fifo_deep = Connection(\n",
    "    host='pc524.emulab.net',\n",
    "    user\n",
    "    = 'PeterYao',  \n",
    "    port=22,\n",
    ")\n",
    "\n",
    "rx = Connection(\n",
    "    host='pc760.emulab.net',\n",
    "    user = 'PeterYao',\n",
    "    port=22,\n",
    ")\n",
    "\n",
    "classic_receiver = Connection(\n",
    "    host='pc536.emulab.net',\n",
    "    user = 'PeterYao',\n",
    "    port = 25674,\n",
    ")\n",
    "\n",
    "prague_receiver = Connection(\n",
    "    host='pc536.emulab.net',\n",
    "    user =  'PeterYao',\n",
    "    port= 25675,\n",
    ")\n",
    "\n",
    "connections = [classic_sender, classic_receiver, prague_sender, dualq, fifo_deep, rx, prague_receiver]"
   ]
  },
  {
   "cell_type": "code",
   "execution_count": null,
   "metadata": {
    "vscode": {
     "languageId": "plaintext"
    }
   },
   "outputs": [],
   "source": [
    "# l4s Installation\n",
    "for node in connections[2:]:\n",
    "    node.run(\"wget https://github.com/L4STeam/linux/releases/download/testing-build/l4s-testing.zip\")\n",
    "    node.sudo(\"apt install unzip\")\n",
    "    node.run(\"unzip l4s-testing.zip\")\n",
    "    \n",
    "    node.sudo(\"dpkg --install debian_build/*\")\n",
    "    node.sudo(\"update-grub\")\n",
    "    node.sudo(\"reboot\", warn=True)    "
   ]
  },
  {
   "cell_type": "code",
   "execution_count": null,
   "metadata": {
    "vscode": {
     "languageId": "plaintext"
    }
   },
   "outputs": [],
   "source": [
    "# Verify L4S\n",
    "for node in connections:\n",
    "    node.run(\"hostname; uname -a\")"
   ]
  },
  {
   "cell_type": "code",
   "execution_count": null,
   "metadata": {
    "vscode": {
     "languageId": "plaintext"
    }
   },
   "outputs": [],
   "source": [
    "# Modprobe TCP prague\n",
    "for node in connections[2:]:\n",
    "    # node.sudo(\"modprobe sch_dualpi2\")\n",
    "    node.sudo(\"modprobe tcp_prague\")"
   ]
  },
  {
   "cell_type": "code",
   "execution_count": null,
   "metadata": {
    "vscode": {
     "languageId": "plaintext"
    }
   },
   "outputs": [],
   "source": [
    "# Setup tcp prague\n",
    "classic_sender.sudo(\"sysctl -w net.ipv4.tcp_congestion_control=cubic\")\n",
    "classic_sender.sudo(\"sysctl -w net.ipv4.tcp_ecn=1\")\n",
    "prague_sender.sudo(\"sysctl -w net.ipv4.tcp_congestion_control=prague\")\n",
    "prague_sender.sudo(\"sysctl -w net.ipv4.tcp_ecn=3\")"
   ]
  },
  {
   "cell_type": "code",
   "execution_count": null,
   "metadata": {
    "vscode": {
     "languageId": "plaintext"
    }
   },
   "outputs": [],
   "source": [
    "# Install DualPI2\n",
    "cmd_dualpi2=\"\"\"sudo apt-get update\n",
    "sudo apt -y install git gcc make bison flex libdb-dev libelf-dev pkg-config libbpf-dev libmnl-dev libcap-dev libatm1-dev selinux-utils libselinux1-dev\n",
    "sudo git clone https://github.com/L4STeam/iproute2.git\n",
    "cd iproute2\n",
    "sudo chmod +x configure\n",
    "sudo ./configure\n",
    "sudo make\n",
    "sudo make install\"\"\"\n",
    "dualq.sudo(cmd_dualpi2)\n",
    "dualq.sudo(\"modprobe sch_dualpi2\")"
   ]
  },
  {
   "cell_type": "code",
   "execution_count": null,
   "metadata": {
    "vscode": {
     "languageId": "plaintext"
    }
   },
   "outputs": [],
   "source": []
  }
 ],
 "metadata": {
  "language_info": {
   "name": "python"
  }
 },
 "nbformat": 4,
 "nbformat_minor": 2
}
